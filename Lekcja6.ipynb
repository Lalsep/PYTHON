{
 "cells": [
  {
   "cell_type": "code",
   "execution_count": 1,
   "metadata": {},
   "outputs": [
    {
     "name": "stdout",
     "output_type": "stream",
     "text": [
      "2\n",
      "3\n",
      "suma =  5\n"
     ]
    }
   ],
   "source": [
    "a = 2\n",
    "b = 3\n",
    "print(a)\n",
    "print(b)\n",
    "print(\"suma = \", a+b)"
   ]
  },
  {
   "cell_type": "markdown",
   "metadata": {},
   "source": [
    "# Zadanie 1"
   ]
  },
  {
   "cell_type": "markdown",
   "metadata": {},
   "source": [
    "dane sa trzy liczby a, b oraz c. Sprawdz czy da się utworzyć z tych boków trójkąt.\n"
   ]
  },
  {
   "cell_type": "code",
   "execution_count": 9,
   "metadata": {},
   "outputs": [
    {
     "name": "stdout",
     "output_type": "stream",
     "text": [
      "podaj a  3\n",
      "podaj b  4\n",
      "podaj c 5\n",
      "podałeś  a = 3   b=   4   c =   5\n"
     ]
    }
   ],
   "source": [
    "a = int (input(\"podaj a  \"))\n",
    "b = int(input(\"podaj b  \"))\n",
    "c = int(input(\"podaj c \"))\n",
    "print (\"podałeś  a =\", a, \"  b=  \", b, \"  c =  \", c)\n"
   ]
  },
  {
   "cell_type": "code",
   "execution_count": 10,
   "metadata": {},
   "outputs": [
    {
     "name": "stdout",
     "output_type": "stream",
     "text": [
      "boki a, b, c tworzą trókąt\n"
     ]
    }
   ],
   "source": [
    "if (a + b > c and a+c > b and b+c > a):\n",
    "    print(\"boki a, b, c tworzą trókąt\")\n",
    "else:\n",
    "    print (\"boki a, b, c nie utworzą trójkąta\")"
   ]
  },
  {
   "cell_type": "code",
   "execution_count": null,
   "metadata": {},
   "outputs": [],
   "source": []
  }
 ],
 "metadata": {
  "kernelspec": {
   "display_name": "Python 3",
   "language": "python",
   "name": "python3"
  },
  "language_info": {
   "codemirror_mode": {
    "name": "ipython",
    "version": 3
   },
   "file_extension": ".py",
   "mimetype": "text/x-python",
   "name": "python",
   "nbconvert_exporter": "python",
   "pygments_lexer": "ipython3",
   "version": "3.7.3"
  }
 },
 "nbformat": 4,
 "nbformat_minor": 2
}
